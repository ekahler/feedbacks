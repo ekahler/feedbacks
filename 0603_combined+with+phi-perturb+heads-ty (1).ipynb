{
 "cells": [
  {
   "cell_type": "markdown",
   "metadata": {},
   "source": [
    "# import stuff"
   ]
  },
  {
   "cell_type": "code",
   "execution_count": 1,
   "metadata": {
    "collapsed": true
   },
   "outputs": [],
   "source": [
    "import os\n",
    "import numpy as np\n",
    "import pandas as pd\n",
    "import flopy \n",
    "import matplotlib.pyplot as plt\n",
    "import flopy.utils.binaryfile as bf\n",
    "import itertools as it\n"
   ]
  },
  {
   "cell_type": "code",
   "execution_count": 2,
   "metadata": {
    "collapsed": true
   },
   "outputs": [],
   "source": [
    "numcell = 5\n",
    "nlay = 1\n",
    "nrow = 1\n",
    "ncol = numcell\n",
    "top = 0\n",
    "botm = -5\n",
    "\n",
    "ib = np.ones((nrow,ncol))\n",
    "#set first cell in first row to constant head\n",
    "ib[(nrow-nrow),(ncol-ncol)] = -1\n",
    "# set last cell in first row to contant head\n",
    "ib[(nrow-1),(ncol-1)] = -1\n",
    "\n",
    "#create array of starting heads (one indicates active I think)\n",
    "strt = np.ones((nlay, nrow, ncol), dtype=np.float32)\n",
    "#from ibound, only first and last cells have fixed head, assign these:\n",
    "strt[:, :, 0] = 4.\n",
    "strt[:, :, -1] = 0."
   ]
  },
  {
   "cell_type": "code",
   "execution_count": 3,
   "metadata": {
    "collapsed": true
   },
   "outputs": [],
   "source": [
    "modelname = 'testETunconf'\n",
    "m = flopy.modflow.Modflow(version = 'mf2005',exe_name = 'mf2005.exe',modelname = modelname)\n",
    "Lx = 100\n",
    "Ly = 100\n",
    "nlay = 1\n",
    "nrow = 1\n",
    "ncol = numcell\n",
    "nper = 1\n",
    "\n",
    "delc = Ly/nrow\n",
    "delr = Lx/ncol\n",
    "laycbd = 0 \n",
    "laytyp = 0 #zero for confined or convertible (will act like confined when fully saturated)\n",
    "botm = -5\n",
    "top = 0 #for confined, top equals lowest top from unconfined case at H1, for unconfined, top = 100\n",
    "nstp = 1\n",
    "tsmult = 1\n",
    "steady = True\n",
    "\n",
    "dis = flopy.modflow.ModflowDis(m,nlay=nlay,nrow=nrow,ncol=ncol,nper=nper,delr=delr,delc=delc,laycbd=laycbd,top=top\n",
    ",botm=botm,nstp=nstp,tsmult=tsmult,steady=steady)\n",
    "flow = []\n",
    "heads = []\n",
    "\n",
    "\n",
    "\n",
    "bas = flopy.modflow.ModflowBas(m,ibound = ib,strt = strt)\n",
    "lpf = flopy.modflow.ModflowLpf(m,laytyp=1,ipakcb=50)"
   ]
  },
  {
   "cell_type": "code",
   "execution_count": 4,
   "metadata": {
    "collapsed": true
   },
   "outputs": [],
   "source": [
    "def modelrun_fixed(name):\n",
    "    k=0\n",
    "    j=0\n",
    "    spd = {0:[[0,0,0,j],[0,0,1,k]]}\n",
    "    wel = flopy.modflow.ModflowWel(m,ipakcb = 50,stress_period_data=spd)\n",
    "    gmg = flopy.modflow.ModflowGmg(m)\n",
    "    oc = flopy.modflow.ModflowOc(m)\n",
    "    oc.stress_period_data[0,0] = ['save head', 'save budget', 'print head', 'print budget']\n",
    "    print(top)\n",
    "    print(j)\n",
    "\n",
    "    m.write_input()\n",
    "    m.run_model()\n",
    "\n",
    "\n",
    "    hds = bf.HeadFile(modelname+'.hds') #read binary head file output from modflow\n",
    "    times = hds.get_times() #not sure\n",
    "    head = hds.get_data(totim=times[-1]) #assign result of reading binary file to variable 'head'\n",
    "    heads.append(head)\n",
    "    levels = np.linspace(0, 10, 11) #not sure\n",
    "    cbb = bf.CellBudgetFile(modelname+'.cbc') #this is how you read the budget file, which is binary\n",
    "    kstpkper_list = cbb.get_kstpkper() #variable that contains the results....maybe?\n",
    "    frf = cbb.get_data(text='FLOW RIGHT FACE', totim=times[-1])[0] #write to text for each result\n",
    "    flow.append(frf)\n",
    "    print(laytyp)\n",
    "        \n",
    "    return flow, heads;"
   ]
  },
  {
   "cell_type": "code",
   "execution_count": 5,
   "metadata": {
    "collapsed": true
   },
   "outputs": [],
   "source": [
    "def modelrun_et(name):\n",
    "    j = 0\n",
    "    k = -2.5\n",
    "    spd = {0:[[0,0,0,k],[0,0,1,k],[0,0,2,k],[0,0,3,k],[0,0,4,k]]}\n",
    "    wel = flopy.modflow.ModflowWel(m,ipakcb = 50,stress_period_data=spd)\n",
    "    #evt = flopy.modflow.ModflowEvt(m, nevtop=3, evtr=.001)\n",
    "    gmg = flopy.modflow.ModflowGmg(m)\n",
    "    oc = flopy.modflow.ModflowOc(m)\n",
    "    oc.stress_period_data[0,0] = ['save head', 'save budget', 'print head', 'print budget']\n",
    "    print(top)\n",
    "    print(j)\n",
    "\n",
    "    m.write_input()\n",
    "    m.run_model()\n",
    "\n",
    "\n",
    "    hds = bf.HeadFile(modelname+'.hds') #read binary head file output from modflow\n",
    "    times = hds.get_times() #not sure\n",
    "    head = hds.get_data(totim=times[-1]) #assign result of reading binary file to variable 'head'\n",
    "    heads.append(head)\n",
    "    levels = np.linspace(0, 10, 11) #not sure\n",
    "    cbb = bf.CellBudgetFile(modelname+'.cbc') #this is how you read the budget file, which is binary\n",
    "    kstpkper_list = cbb.get_kstpkper() #variable that contains the results....maybe?\n",
    "    frf = cbb.get_data(text='FLOW RIGHT FACE', totim=times[-1])[0] #write to text for each result\n",
    "    flow.append(frf)\n",
    "    print(laytyp)\n",
    "    #mf_list = MfListBudget(modelname+\".list\")\n",
    "    #budget = mf_list.get_budget(names = None)\n",
    "    \n",
    "#     evt = flopy.modflow.mfevt.ModflowEvt(mf, surf=ztop, evtr=ET, exdp=extinction_depth, ipakcb=53)                       # EVT (Evapotranspiration)\n",
    "\n",
    "    return flow, heads;"
   ]
  },
  {
   "cell_type": "code",
   "execution_count": 6,
   "metadata": {
    "collapsed": false,
    "scrolled": true
   },
   "outputs": [
    {
     "name": "stderr",
     "output_type": "stream",
     "text": [
      "C:\\Users\\Libby\\Anaconda3\\envs\\flopy\\lib\\site-packages\\flopy\\modflow\\mfdis.py:164: UserWarning: ModflowDis.sr is deprecated. use Modflow.sr\n",
      "  warnings.warn(\"ModflowDis.sr is deprecated. use Modflow.sr\")\n"
     ]
    },
    {
     "name": "stdout",
     "output_type": "stream",
     "text": [
      "0\n",
      "0\n",
      "FloPy is using the following executable to run the model: C:\\GWV6\\mf2005.exe\n",
      "\n",
      "                                  MODFLOW-2005     \n",
      "    U.S. GEOLOGICAL SURVEY MODULAR FINITE-DIFFERENCE GROUND-WATER FLOW MODEL\n",
      "                             Version 1.11.00 8/8/2013                        \n",
      "\n",
      " Using NAME file: testETunconf.nam \n",
      " Run start date and time (yyyy/mm/dd hh:mm:ss): 2018/06/09 15:41:13\n",
      "\n",
      " Solving:  Stress period:     1    Time step:     1    Ground-Water Flow Eqn.\n",
      " Run end date and time (yyyy/mm/dd hh:mm:ss): 2018/06/09 15:41:13\n",
      " Elapsed run time:  0.009 Seconds\n",
      "\n",
      "  Normal termination of simulation\n",
      "0\n"
     ]
    },
    {
     "name": "stderr",
     "output_type": "stream",
     "text": [
      "C:\\Users\\Libby\\Anaconda3\\envs\\flopy\\lib\\site-packages\\flopy\\utils\\binaryfile.py:811: VisibleDeprecationWarning: converting an array with ndim > 0 to an index will result in an error in the future\n",
      "  self.file.seek(ipos, 0)\n"
     ]
    }
   ],
   "source": [
    "noETconf = modelrun_fixed(modelname)"
   ]
  },
  {
   "cell_type": "code",
   "execution_count": 7,
   "metadata": {
    "collapsed": false
   },
   "outputs": [
    {
     "data": {
      "text/plain": [
       "[array([[[ 25.,  25.,  25.,  25.,   0.]]], dtype=float32)]"
      ]
     },
     "execution_count": 7,
     "metadata": {},
     "output_type": "execute_result"
    }
   ],
   "source": [
    "flow"
   ]
  },
  {
   "cell_type": "code",
   "execution_count": 8,
   "metadata": {
    "collapsed": true
   },
   "outputs": [],
   "source": [
    "noETc = []\n",
    "for i in range(ncol):\n",
    "    new = heads[0][0][0][i]\n",
    "    noETc.append(new)\n",
    "    \n",
    "noETcQ = []\n",
    "for i in range(ncol):\n",
    "    new = flow[0][0][0][i]\n",
    "    noETcQ.append(new)\n",
    "\n",
    "noETc = np.asarray(noETc)\n",
    "noETcQ = np.asarray(noETcQ)"
   ]
  },
  {
   "cell_type": "code",
   "execution_count": 9,
   "metadata": {
    "collapsed": false
   },
   "outputs": [
    {
     "data": {
      "text/plain": [
       "array([ 25.,  25.,  25.,  25.,   0.], dtype=float32)"
      ]
     },
     "execution_count": 9,
     "metadata": {},
     "output_type": "execute_result"
    }
   ],
   "source": [
    "noETcQ"
   ]
  },
  {
   "cell_type": "code",
   "execution_count": 10,
   "metadata": {
    "collapsed": true
   },
   "outputs": [],
   "source": [
    "heads = []\n",
    "flow = []"
   ]
  },
  {
   "cell_type": "code",
   "execution_count": 11,
   "metadata": {
    "collapsed": false
   },
   "outputs": [
    {
     "name": "stdout",
     "output_type": "stream",
     "text": [
      "WARNING: unit 20 of package ['WEL'] already in use\n",
      "****Warning -- two packages of the same type:  <class 'flopy.modflow.mfwel.ModflowWel'> <class 'flopy.modflow.mfwel.ModflowWel'>\n",
      "replacing existing Package...\n",
      "WARNING: unit 27 of package ['GMG'] already in use\n",
      "****Warning -- two packages of the same type:  <class 'flopy.modflow.mfgmg.ModflowGmg'> <class 'flopy.modflow.mfgmg.ModflowGmg'>\n",
      "replacing existing Package...\n",
      "WARNING: unit 14 of package ['OC', 'DATA(BINARY)', 'DATA(BINARY)', 'DATA(BINARY)'] already in use\n",
      "WARNING: unit 51 of package ['OC', 'DATA(BINARY)', 'DATA(BINARY)', 'DATA(BINARY)'] already in use\n",
      "WARNING: unit 52 of package ['OC', 'DATA(BINARY)', 'DATA(BINARY)', 'DATA(BINARY)'] already in use\n",
      "WARNING: unit 53 of package ['OC', 'DATA(BINARY)', 'DATA(BINARY)', 'DATA(BINARY)'] already in use\n",
      "****Warning -- two packages of the same type:  <class 'flopy.modflow.mfoc.ModflowOc'> <class 'flopy.modflow.mfoc.ModflowOc'>\n",
      "replacing existing Package...\n",
      "0\n",
      "0\n",
      "FloPy is using the following executable to run the model: C:\\GWV6\\mf2005.exe\n",
      "\n",
      "                                  MODFLOW-2005     \n",
      "    U.S. GEOLOGICAL SURVEY MODULAR FINITE-DIFFERENCE GROUND-WATER FLOW MODEL\n",
      "                             Version 1.11.00 8/8/2013                        \n",
      "\n",
      " Using NAME file: testETunconf.nam \n",
      " Run start date and time (yyyy/mm/dd hh:mm:ss): 2018/06/09 15:41:14\n",
      "\n",
      " Solving:  Stress period:     1    Time step:     1    Ground-Water Flow Eqn.\n",
      " Run end date and time (yyyy/mm/dd hh:mm:ss): 2018/06/09 15:41:14\n",
      " Elapsed run time:  0.016 Seconds\n",
      "\n",
      "  Normal termination of simulation\n",
      "0\n"
     ]
    },
    {
     "name": "stderr",
     "output_type": "stream",
     "text": [
      "C:\\Users\\Libby\\Anaconda3\\envs\\flopy\\lib\\site-packages\\flopy\\modflow\\mfdis.py:164: UserWarning: ModflowDis.sr is deprecated. use Modflow.sr\n",
      "  warnings.warn(\"ModflowDis.sr is deprecated. use Modflow.sr\")\n",
      "C:\\Users\\Libby\\Anaconda3\\envs\\flopy\\lib\\site-packages\\flopy\\utils\\binaryfile.py:811: VisibleDeprecationWarning: converting an array with ndim > 0 to an index will result in an error in the future\n",
      "  self.file.seek(ipos, 0)\n"
     ]
    }
   ],
   "source": [
    "ETconf = modelrun_et(modelname)"
   ]
  },
  {
   "cell_type": "code",
   "execution_count": 12,
   "metadata": {
    "collapsed": true
   },
   "outputs": [],
   "source": [
    "ETc = []\n",
    "for i in range(ncol):\n",
    "    new = heads[0][0][0][i]\n",
    "    ETc.append(new)\n",
    "\n",
    "ETcQ = []\n",
    "for i in range(ncol):\n",
    "    new = flow[0][0][0][i]\n",
    "    ETcQ.append(new)\n",
    "    \n",
    "ETc = np.asarray(ETc)\n",
    "ETcQ = np.asarray(ETcQ)"
   ]
  },
  {
   "cell_type": "code",
   "execution_count": 13,
   "metadata": {
    "collapsed": true
   },
   "outputs": [],
   "source": [
    "heads = []\n",
    "flow = []"
   ]
  },
  {
   "cell_type": "code",
   "execution_count": 14,
   "metadata": {
    "collapsed": false
   },
   "outputs": [
    {
     "data": {
      "text/plain": [
       "array([ 4.,  3.,  2.,  1.,  0.], dtype=float32)"
      ]
     },
     "execution_count": 14,
     "metadata": {},
     "output_type": "execute_result"
    }
   ],
   "source": [
    "noETc"
   ]
  },
  {
   "cell_type": "code",
   "execution_count": 15,
   "metadata": {
    "collapsed": false
   },
   "outputs": [
    {
     "data": {
      "text/plain": [
       "array([ 28.75      ,  26.24999809,  23.75      ,  21.25      ,   0.        ], dtype=float32)"
      ]
     },
     "execution_count": 15,
     "metadata": {},
     "output_type": "execute_result"
    }
   ],
   "source": [
    "ETcQ"
   ]
  },
  {
   "cell_type": "markdown",
   "metadata": {},
   "source": [
    "# Reset and rerun for \"unconfined\" case"
   ]
  },
  {
   "cell_type": "code",
   "execution_count": 16,
   "metadata": {
    "collapsed": true
   },
   "outputs": [],
   "source": [
    "numcell = 5\n",
    "nlay = 1\n",
    "nrow = 1\n",
    "ncol = numcell\n",
    "top = 0\n",
    "botm = -5\n",
    "\n",
    "ib = np.ones((nrow,ncol))\n",
    "#set first cell in first row to constant head\n",
    "ib[(nrow-nrow),(ncol-ncol)] = -1\n",
    "# set last cell in first row to contant head\n",
    "ib[(nrow-1),(ncol-1)] = -1\n",
    "\n",
    "#create array of starting heads (one indicates active I think)\n",
    "strt = np.ones((nlay, nrow, ncol), dtype=np.float32)\n",
    "#from ibound, only first and last cells have fixed head, assign these:\n",
    "strt[:, :, 0] = 0.1\n",
    "strt[:, :, -1] = -4.1"
   ]
  },
  {
   "cell_type": "code",
   "execution_count": 17,
   "metadata": {
    "collapsed": true
   },
   "outputs": [],
   "source": [
    "modelname = 'testETunconf'\n",
    "m = flopy.modflow.Modflow(version = 'mf2005',exe_name = 'mf2005.exe',modelname = modelname)\n",
    "Lx = 100\n",
    "Ly = 100\n",
    "nlay = 1\n",
    "nrow = 1\n",
    "ncol = numcell\n",
    "nper = 1\n",
    "\n",
    "delc = Ly/nrow\n",
    "delr = Lx/ncol\n",
    "laycbd = 0 \n",
    "laytyp = 0 #zero for confined or convertible (will act like confined when fully saturated)\n",
    "botm = -5\n",
    "top = 0 #for confined, top equals lowest top from unconfined case at H1, for unconfined, top = 100\n",
    "nstp = 1\n",
    "tsmult = 1\n",
    "steady = True\n",
    "\n",
    "dis = flopy.modflow.ModflowDis(m,nlay=nlay,nrow=nrow,ncol=ncol,nper=nper,delr=delr,delc=delc,laycbd=laycbd,top=top\n",
    ",botm=botm,nstp=nstp,tsmult=tsmult,steady=steady)\n",
    "flow = []\n",
    "heads = []\n",
    "\n",
    "\n",
    "\n",
    "bas = flopy.modflow.ModflowBas(m,ibound = ib,strt = strt)\n",
    "lpf = flopy.modflow.ModflowLpf(m,laytyp=1,ipakcb=50)"
   ]
  },
  {
   "cell_type": "code",
   "execution_count": 18,
   "metadata": {
    "collapsed": false
   },
   "outputs": [
    {
     "name": "stdout",
     "output_type": "stream",
     "text": [
      "0\n",
      "0\n",
      "FloPy is using the following executable to run the model: C:\\GWV6\\mf2005.exe\n",
      "\n",
      "                                  MODFLOW-2005     \n",
      "    U.S. GEOLOGICAL SURVEY MODULAR FINITE-DIFFERENCE GROUND-WATER FLOW MODEL\n",
      "                             Version 1.11.00 8/8/2013                        \n",
      "\n",
      " Using NAME file: testETunconf.nam \n",
      " Run start date and time (yyyy/mm/dd hh:mm:ss): 2018/06/09 15:41:15\n",
      "\n",
      " Solving:  Stress period:     1    Time step:     1    Ground-Water Flow Eqn.\n",
      " Run end date and time (yyyy/mm/dd hh:mm:ss): 2018/06/09 15:41:15\n",
      " Elapsed run time:  0.000 Seconds\n",
      "\n",
      "  Normal termination of simulation\n",
      "0\n"
     ]
    },
    {
     "name": "stderr",
     "output_type": "stream",
     "text": [
      "C:\\Users\\Libby\\Anaconda3\\envs\\flopy\\lib\\site-packages\\flopy\\modflow\\mfdis.py:164: UserWarning: ModflowDis.sr is deprecated. use Modflow.sr\n",
      "  warnings.warn(\"ModflowDis.sr is deprecated. use Modflow.sr\")\n",
      "C:\\Users\\Libby\\Anaconda3\\envs\\flopy\\lib\\site-packages\\flopy\\utils\\binaryfile.py:811: VisibleDeprecationWarning: converting an array with ndim > 0 to an index will result in an error in the future\n",
      "  self.file.seek(ipos, 0)\n"
     ]
    }
   ],
   "source": [
    "noETu = modelrun_fixed(modelname)"
   ]
  },
  {
   "cell_type": "code",
   "execution_count": 19,
   "metadata": {
    "collapsed": false
   },
   "outputs": [
    {
     "data": {
      "text/plain": [
       "[array([[[ 0.1       , -0.49986044, -1.18830526, -2.04121685, -4.0999999 ]]], dtype=float32)]"
      ]
     },
     "execution_count": 19,
     "metadata": {},
     "output_type": "execute_result"
    }
   ],
   "source": [
    "heads"
   ]
  },
  {
   "cell_type": "code",
   "execution_count": 20,
   "metadata": {
    "collapsed": true
   },
   "outputs": [],
   "source": [
    "noETu = []\n",
    "for i in range(ncol):\n",
    "    new1 = heads[0][0][0][i]\n",
    "    noETu.append(new1)\n",
    "    \n",
    "noETuQ = []\n",
    "for i in range(ncol):\n",
    "    new2 = flow[0][0][0][i]\n",
    "    noETuQ.append(new2)\n",
    "    \n",
    "noETu = np.asarray(noETu)\n",
    "noETuQ = np.asarray(noETuQ)"
   ]
  },
  {
   "cell_type": "code",
   "execution_count": 21,
   "metadata": {
    "collapsed": false
   },
   "outputs": [
    {
     "data": {
      "text/plain": [
       "array([ 0.1       , -0.49986044, -1.18830526, -2.04121685, -4.0999999 ], dtype=float32)"
      ]
     },
     "execution_count": 21,
     "metadata": {},
     "output_type": "execute_result"
    }
   ],
   "source": [
    "noETu"
   ]
  },
  {
   "cell_type": "code",
   "execution_count": 22,
   "metadata": {
    "collapsed": true
   },
   "outputs": [],
   "source": [
    "heads = []\n",
    "flow = []"
   ]
  },
  {
   "cell_type": "code",
   "execution_count": 23,
   "metadata": {
    "collapsed": false
   },
   "outputs": [
    {
     "data": {
      "text/plain": [
       "array([ 0.1       , -0.49986044, -1.18830526, -2.04121685, -4.0999999 ], dtype=float32)"
      ]
     },
     "execution_count": 23,
     "metadata": {},
     "output_type": "execute_result"
    }
   ],
   "source": [
    "noETu"
   ]
  },
  {
   "cell_type": "code",
   "execution_count": 24,
   "metadata": {
    "collapsed": false
   },
   "outputs": [
    {
     "name": "stdout",
     "output_type": "stream",
     "text": [
      "WARNING: unit 20 of package ['WEL'] already in use\n",
      "****Warning -- two packages of the same type:  <class 'flopy.modflow.mfwel.ModflowWel'> <class 'flopy.modflow.mfwel.ModflowWel'>\n",
      "replacing existing Package...\n",
      "WARNING: unit 27 of package ['GMG'] already in use\n",
      "****Warning -- two packages of the same type:  <class 'flopy.modflow.mfgmg.ModflowGmg'> <class 'flopy.modflow.mfgmg.ModflowGmg'>\n",
      "replacing existing Package...\n",
      "WARNING: unit 14 of package ['OC', 'DATA(BINARY)', 'DATA(BINARY)', 'DATA(BINARY)'] already in use\n",
      "WARNING: unit 51 of package ['OC', 'DATA(BINARY)', 'DATA(BINARY)', 'DATA(BINARY)'] already in use\n",
      "WARNING: unit 52 of package ['OC', 'DATA(BINARY)', 'DATA(BINARY)', 'DATA(BINARY)'] already in use\n",
      "WARNING: unit 53 of package ['OC', 'DATA(BINARY)', 'DATA(BINARY)', 'DATA(BINARY)'] already in use\n",
      "****Warning -- two packages of the same type:  <class 'flopy.modflow.mfoc.ModflowOc'> <class 'flopy.modflow.mfoc.ModflowOc'>\n",
      "replacing existing Package...\n",
      "0\n",
      "0\n",
      "FloPy is using the following executable to run the model: C:\\GWV6\\mf2005.exe\n",
      "\n",
      "                                  MODFLOW-2005     \n",
      "    U.S. GEOLOGICAL SURVEY MODULAR FINITE-DIFFERENCE GROUND-WATER FLOW MODEL\n",
      "                             Version 1.11.00 8/8/2013                        \n",
      "\n",
      " Using NAME file: testETunconf.nam \n",
      " Run start date and time (yyyy/mm/dd hh:mm:ss): 2018/06/09 15:41:16\n",
      "\n",
      " Solving:  Stress period:     1    Time step:     1    Ground-Water Flow Eqn.\n",
      " Run end date and time (yyyy/mm/dd hh:mm:ss): 2018/06/09 15:41:16\n",
      " Elapsed run time:  0.016 Seconds\n",
      "\n",
      "  Normal termination of simulation\n",
      "0\n"
     ]
    },
    {
     "name": "stderr",
     "output_type": "stream",
     "text": [
      "C:\\Users\\Libby\\Anaconda3\\envs\\flopy\\lib\\site-packages\\flopy\\modflow\\mfdis.py:164: UserWarning: ModflowDis.sr is deprecated. use Modflow.sr\n",
      "  warnings.warn(\"ModflowDis.sr is deprecated. use Modflow.sr\")\n",
      "C:\\Users\\Libby\\Anaconda3\\envs\\flopy\\lib\\site-packages\\flopy\\utils\\binaryfile.py:811: VisibleDeprecationWarning: converting an array with ndim > 0 to an index will result in an error in the future\n",
      "  self.file.seek(ipos, 0)\n"
     ]
    }
   ],
   "source": [
    "ETu = modelrun_et(modelname)"
   ]
  },
  {
   "cell_type": "code",
   "execution_count": 25,
   "metadata": {
    "collapsed": true
   },
   "outputs": [],
   "source": [
    "ETu = []\n",
    "for i in range(ncol):\n",
    "    new1 = heads[0][0][0][i]\n",
    "    ETu.append(new1)\n",
    "    \n",
    "ETuQ = []\n",
    "for i in range(ncol):\n",
    "    new2 = flow[0][0][0][i]\n",
    "    ETuQ.append(new2)\n",
    "    \n",
    "ETu = np.asarray(ETu)\n",
    "ETuQ = np.asarray(ETuQ)"
   ]
  },
  {
   "cell_type": "markdown",
   "metadata": {},
   "source": [
    "df1 = pd.DataFrame(noETc,ETc,noETu,ETu)\n",
    "df1.to_csv(\"hds.csv\")"
   ]
  },
  {
   "cell_type": "code",
   "execution_count": 26,
   "metadata": {
    "collapsed": false
   },
   "outputs": [
    {
     "data": {
      "text/plain": [
       "array([ 0.1       , -0.69941223, -1.53188324, -2.44918919, -4.0999999 ], dtype=float32)"
      ]
     },
     "execution_count": 26,
     "metadata": {},
     "output_type": "execute_result"
    }
   ],
   "source": [
    "ETu"
   ]
  },
  {
   "cell_type": "code",
   "execution_count": 27,
   "metadata": {
    "collapsed": false
   },
   "outputs": [
    {
     "data": {
      "image/png": "[encoded data removed]",
      "text/plain": [
       "<matplotlib.figure.Figure at 0x111434d55c0>"
      ]
     },
     "metadata": {},
     "output_type": "display_data"
    }
   ],
   "source": [
    "\n",
    "plt.plot(noETu,'mo')\n",
    "plt.plot(ETu,'ro')\n",
    "plt.plot(noETc,'bo')\n",
    "plt.plot(ETc,'go')\n",
    "plt.title('heads')\n",
    "\n",
    "axes = plt.gca()\n",
    "axes.set_xlim([0,5])\n",
    "axes.set_ylim([-5,5])\n",
    "plt.show()"
   ]
  },
  {
   "cell_type": "code",
   "execution_count": 28,
   "metadata": {
    "collapsed": false
   },
   "outputs": [
    {
     "data": {
      "image/png": "[encoded data removed]",
      "text/plain": [
       "<matplotlib.figure.Figure at 0x11143dc28d0>"
      ]
     },
     "metadata": {},
     "output_type": "display_data"
    }
   ],
   "source": [
    "plt.plot(noETuQ,'mo')\n",
    "plt.plot(ETuQ,'ro')\n",
    "plt.plot(noETcQ,'bo')\n",
    "plt.plot(ETcQ,'go')\n",
    "plt.title('flows')\n",
    "\n",
    "axes = plt.gca()\n",
    "axes.set_xlim([-1,4])\n",
    "axes.set_ylim([-5,30])\n",
    "plt.show()"
   ]
  },
  {
   "cell_type": "markdown",
   "metadata": {},
   "source": [
    "# it's time."
   ]
  },
  {
   "cell_type": "code",
   "execution_count": 29,
   "metadata": {
    "collapsed": true
   },
   "outputs": [],
   "source": [
    "noETuGradH = []\n",
    "ETuGradH = []\n",
    "noETcGradH = []\n",
    "ETcGradH = []\n",
    "\n",
    "for i in range(ncol-1):\n",
    "    dH1 = noETu[i+1] - noETu[i]\n",
    "    dH2 = ETu[i+1] - ETu[i]\n",
    "    dH3 = noETc[i+1] - noETc[i]\n",
    "    dH4 = ETc[i+1] - ETc[i]\n",
    "    noETuGradH.append(dH1)\n",
    "    ETuGradH.append(dH2)\n",
    "    noETcGradH.append(dH3)\n",
    "    ETcGradH.append(dH4)\n",
    "    "
   ]
  },
  {
   "cell_type": "code",
   "execution_count": 30,
   "metadata": {
    "collapsed": true
   },
   "outputs": [],
   "source": [
    "noETuR = []\n",
    "ETuR = []\n",
    "noETcR = []\n",
    "ETcR = []\n",
    "\n",
    "for i in range(ncol-1):\n",
    "    R1 = noETuGradH[i]/noETuQ[i]\n",
    "    R2 = ETuGradH[i]/ETuQ[i]\n",
    "    R3 = noETcGradH[i]/noETcQ[i]\n",
    "    R4 = ETcGradH[i]/ETcQ[i]\n",
    "    noETuR.append(R1)\n",
    "    ETuR.append(R2)\n",
    "    noETcR.append(R3)\n",
    "    ETcR.append(R4)"
   ]
  },
  {
   "cell_type": "markdown",
   "metadata": {},
   "source": [
    "# gradient and R...now what is base and pert?\n",
    "1. one base is confined conditions, the other is no ET\n",
    "2. need to calculate three delR/delV's\n",
    "    a. confined, no ET = base, unconfined, no ET is pert\n",
    "    b. confined, no ET = base, confined, ET is pert\n",
    "    c. unconfined, no ET = base, unconfined, ET is pert\n",
    "    d. Confined, no ET = base, unconfined, with ET is pert\n",
    "3. compare phi values from all cases."
   ]
  },
  {
   "cell_type": "code",
   "execution_count": 31,
   "metadata": {
    "collapsed": true
   },
   "outputs": [],
   "source": [
    "phiA = []\n",
    "phiB = []\n",
    "phiC = []\n",
    "phiD = []\n",
    "\n",
    "for i in range(ncol-1):\n",
    "    phi1 = (noETuR[i] - noETcR[i])/(noETuGradH[i] - noETcGradH[i])\n",
    "    phi2 = (ETcR[i] - noETcR[i])/(ETcGradH[i] - noETcGradH[i])\n",
    "    phi3 = (ETuR[i] - noETuR[i])/(ETuGradH[i] - noETuGradH[i])\n",
    "    phi4 = (ETuR[i] - noETcR[i])/(ETuGradH[i] - noETcGradH[i])\n",
    "    phiA.append(phi1)\n",
    "    phiB.append(phi2)\n",
    "    phiC.append(phi3)\n",
    "    phiD.append(phi4)"
   ]
  },
  {
   "cell_type": "code",
   "execution_count": 32,
   "metadata": {
    "collapsed": false
   },
   "outputs": [
    {
     "data": {
      "text/plain": [
       "[-0.79941225, -0.83247101, -0.91730595, -1.6508107]"
      ]
     },
     "execution_count": 32,
     "metadata": {},
     "output_type": "execute_result"
    }
   ],
   "source": [
    "ETuGradH"
   ]
  },
  {
   "cell_type": "code",
   "execution_count": 33,
   "metadata": {
    "collapsed": false
   },
   "outputs": [
    {
     "data": {
      "text/plain": [
       "[-1.0, -1.0, -1.0, -1.0]"
      ]
     },
     "execution_count": 33,
     "metadata": {},
     "output_type": "execute_result"
    }
   ],
   "source": [
    "noETcGradH"
   ]
  },
  {
   "cell_type": "code",
   "execution_count": 34,
   "metadata": {
    "collapsed": false
   },
   "outputs": [
    {
     "data": {
      "text/plain": [
       "[-0.0055519305, -0.027143233, -0.13619503, 0.099084236]"
      ]
     },
     "execution_count": 34,
     "metadata": {},
     "output_type": "execute_result"
    }
   ],
   "source": [
    "phiA"
   ]
  },
  {
   "cell_type": "code",
   "execution_count": 35,
   "metadata": {
    "collapsed": false
   },
   "outputs": [
    {
     "data": {
      "text/plain": [
       "[2.4835252e-08, 7.4505877e-08, 7.4505699e-08, -2.4835273e-08]"
      ]
     },
     "execution_count": 35,
     "metadata": {},
     "output_type": "execute_result"
    }
   ],
   "source": [
    "phiB"
   ]
  },
  {
   "cell_type": "code",
   "execution_count": 36,
   "metadata": {
    "collapsed": false
   },
   "outputs": [
    {
     "data": {
      "text/plain": [
       "[0.0051670638, 0.025204796, 0.12430625, -0.01324993]"
      ]
     },
     "execution_count": 36,
     "metadata": {},
     "output_type": "execute_result"
    }
   ],
   "source": [
    "phiC"
   ]
  },
  {
   "cell_type": "code",
   "execution_count": 37,
   "metadata": {
    "collapsed": false
   },
   "outputs": [
    {
     "data": {
      "text/plain": [
       "[-0.016215567, -0.072147302, -0.33904895, 0.16950291]"
      ]
     },
     "execution_count": 37,
     "metadata": {},
     "output_type": "execute_result"
    }
   ],
   "source": [
    "phiD"
   ]
  },
  {
   "cell_type": "markdown",
   "metadata": {},
   "source": [
    "# does it make sense? \n",
    "1. phiA is negative because unconfining the system represents a negative feedback (more flow through unconfined translates to less of a change in the head gradient than for unconfined)\n",
    "2. phiB is positive because including ET increases the amount of flow through the system, \n",
    "3. phiC positive for the same reason\n",
    "4. phiD is negative, and it is more negative than phiA. There is greater change in the unconfined system with ET"
   ]
  },
  {
   "cell_type": "code",
   "execution_count": 38,
   "metadata": {
    "collapsed": true
   },
   "outputs": [],
   "source": [
    "#create array of starting heads (one indicates active I think)\n",
    "strt = np.ones((nlay, nrow, ncol), dtype=np.float32)\n",
    "#from ibound, only first and last cells have fixed head, assign these:\n",
    "strt[:, :, 0] = 4.1\n",
    "strt[:, :, -1] = 0."
   ]
  },
  {
   "cell_type": "code",
   "execution_count": 39,
   "metadata": {
    "collapsed": true
   },
   "outputs": [],
   "source": [
    "modelname = 'testETunconf'\n",
    "m = flopy.modflow.Modflow(version = 'mf2005',exe_name = 'mf2005.exe',modelname = modelname)\n",
    "Lx = 100\n",
    "Ly = 100\n",
    "nlay = 1\n",
    "nrow = 1\n",
    "ncol = numcell\n",
    "nper = 1\n",
    "\n",
    "delc = Ly/nrow\n",
    "delr = Lx/ncol\n",
    "laycbd = 0 \n",
    "laytyp = 0 #zero for confined or convertible (will act like confined when fully saturated)\n",
    "botm = -5\n",
    "top = 0 #for confined, top equals lowest top from unconfined case at H1, for unconfined, top = 100\n",
    "nstp = 1\n",
    "tsmult = 1\n",
    "steady = True\n",
    "\n",
    "dis = flopy.modflow.ModflowDis(m,nlay=nlay,nrow=nrow,ncol=ncol,nper=nper,delr=delr,delc=delc,laycbd=laycbd,top=top\n",
    ",botm=botm,nstp=nstp,tsmult=tsmult,steady=steady)\n",
    "flow = []\n",
    "heads = []\n",
    "\n",
    "\n",
    "\n",
    "bas = flopy.modflow.ModflowBas(m,ibound = ib,strt = strt)\n",
    "lpf = flopy.modflow.ModflowLpf(m,laytyp=1,ipakcb=50)"
   ]
  },
  {
   "cell_type": "code",
   "execution_count": 40,
   "metadata": {
    "collapsed": false
   },
   "outputs": [
    {
     "name": "stdout",
     "output_type": "stream",
     "text": [
      "0\n",
      "0\n",
      "FloPy is using the following executable to run the model: C:\\GWV6\\mf2005.exe\n",
      "\n",
      "                                  MODFLOW-2005     \n",
      "    U.S. GEOLOGICAL SURVEY MODULAR FINITE-DIFFERENCE GROUND-WATER FLOW MODEL\n",
      "                             Version 1.11.00 8/8/2013                        \n",
      "\n",
      " Using NAME file: testETunconf.nam \n",
      " Run start date and time (yyyy/mm/dd hh:mm:ss): 2018/06/09 15:41:18\n",
      "\n",
      " Solving:  Stress period:     1    Time step:     1    Ground-Water Flow Eqn.\n",
      " Run end date and time (yyyy/mm/dd hh:mm:ss): 2018/06/09 15:41:18\n",
      " Elapsed run time:  0.000 Seconds\n",
      "\n",
      "  Normal termination of simulation\n",
      "0\n"
     ]
    },
    {
     "name": "stderr",
     "output_type": "stream",
     "text": [
      "C:\\Users\\Libby\\Anaconda3\\envs\\flopy\\lib\\site-packages\\flopy\\modflow\\mfdis.py:164: UserWarning: ModflowDis.sr is deprecated. use Modflow.sr\n",
      "  warnings.warn(\"ModflowDis.sr is deprecated. use Modflow.sr\")\n",
      "C:\\Users\\Libby\\Anaconda3\\envs\\flopy\\lib\\site-packages\\flopy\\utils\\binaryfile.py:811: VisibleDeprecationWarning: converting an array with ndim > 0 to an index will result in an error in the future\n",
      "  self.file.seek(ipos, 0)\n"
     ]
    }
   ],
   "source": [
    "noETcPert = modelrun_fixed(modelname)"
   ]
  },
  {
   "cell_type": "code",
   "execution_count": 41,
   "metadata": {
    "collapsed": true
   },
   "outputs": [],
   "source": [
    "noETcP = []\n",
    "for i in range(ncol):\n",
    "    new = heads[0][0][0][i]\n",
    "    noETcP.append(new)\n",
    "    \n",
    "noETcQP = []\n",
    "for i in range(ncol):\n",
    "    new = flow[0][0][0][i]\n",
    "    noETcQP.append(new)\n",
    "\n",
    "noETcP = np.asarray(noETcP)\n",
    "noETcQP = np.asarray(noETcQP)"
   ]
  },
  {
   "cell_type": "code",
   "execution_count": 42,
   "metadata": {
    "collapsed": true
   },
   "outputs": [],
   "source": [
    "heads = []\n",
    "flow = []"
   ]
  },
  {
   "cell_type": "code",
   "execution_count": 43,
   "metadata": {
    "collapsed": false
   },
   "outputs": [
    {
     "name": "stdout",
     "output_type": "stream",
     "text": [
      "WARNING: unit 20 of package ['WEL'] already in use\n",
      "****Warning -- two packages of the same type:  <class 'flopy.modflow.mfwel.ModflowWel'> <class 'flopy.modflow.mfwel.ModflowWel'>\n",
      "replacing existing Package...\n",
      "WARNING: unit 27 of package ['GMG'] already in use\n",
      "****Warning -- two packages of the same type:  <class 'flopy.modflow.mfgmg.ModflowGmg'> <class 'flopy.modflow.mfgmg.ModflowGmg'>\n",
      "replacing existing Package...\n",
      "WARNING: unit 14 of package ['OC', 'DATA(BINARY)', 'DATA(BINARY)', 'DATA(BINARY)'] already in use\n",
      "WARNING: unit 51 of package ['OC', 'DATA(BINARY)', 'DATA(BINARY)', 'DATA(BINARY)'] already in use\n",
      "WARNING: unit 52 of package ['OC', 'DATA(BINARY)', 'DATA(BINARY)', 'DATA(BINARY)'] already in use\n",
      "WARNING: unit 53 of package ['OC', 'DATA(BINARY)', 'DATA(BINARY)', 'DATA(BINARY)'] already in use\n",
      "****Warning -- two packages of the same type:  <class 'flopy.modflow.mfoc.ModflowOc'> <class 'flopy.modflow.mfoc.ModflowOc'>\n",
      "replacing existing Package...\n",
      "0\n",
      "0\n",
      "FloPy is using the following executable to run the model: C:\\GWV6\\mf2005.exe\n",
      "\n",
      "                                  MODFLOW-2005     \n",
      "    U.S. GEOLOGICAL SURVEY MODULAR FINITE-DIFFERENCE GROUND-WATER FLOW MODEL\n",
      "                             Version 1.11.00 8/8/2013                        \n",
      "\n",
      " Using NAME file: testETunconf.nam \n",
      " Run start date and time (yyyy/mm/dd hh:mm:ss): 2018/06/09 15:41:19\n",
      "\n",
      " Solving:  Stress period:     1    Time step:     1    Ground-Water Flow Eqn.\n",
      " Run end date and time (yyyy/mm/dd hh:mm:ss): 2018/06/09 15:41:19\n",
      " Elapsed run time:  0.000 Seconds\n",
      "\n",
      "  Normal termination of simulation\n",
      "0\n"
     ]
    },
    {
     "name": "stderr",
     "output_type": "stream",
     "text": [
      "C:\\Users\\Libby\\Anaconda3\\envs\\flopy\\lib\\site-packages\\flopy\\modflow\\mfdis.py:164: UserWarning: ModflowDis.sr is deprecated. use Modflow.sr\n",
      "  warnings.warn(\"ModflowDis.sr is deprecated. use Modflow.sr\")\n",
      "C:\\Users\\Libby\\Anaconda3\\envs\\flopy\\lib\\site-packages\\flopy\\utils\\binaryfile.py:811: VisibleDeprecationWarning: converting an array with ndim > 0 to an index will result in an error in the future\n",
      "  self.file.seek(ipos, 0)\n"
     ]
    }
   ],
   "source": [
    "ETcPert = modelrun_et(modelname)"
   ]
  },
  {
   "cell_type": "code",
   "execution_count": 44,
   "metadata": {
    "collapsed": true
   },
   "outputs": [],
   "source": [
    "ETcP = []\n",
    "for i in range(ncol):\n",
    "    new = heads[0][0][0][i]\n",
    "    ETcP.append(new)\n",
    "    \n",
    "ETcQP = []\n",
    "for i in range(ncol):\n",
    "    new = flow[0][0][0][i]\n",
    "    ETcQP.append(new)\n",
    "\n",
    "ETcP = np.asarray(noETcP)\n",
    "ETcQP = np.asarray(noETcQP)"
   ]
  },
  {
   "cell_type": "code",
   "execution_count": 45,
   "metadata": {
    "collapsed": true
   },
   "outputs": [],
   "source": [
    "numcell = 5\n",
    "nlay = 1\n",
    "nrow = 1\n",
    "ncol = numcell\n",
    "top = 0\n",
    "botm = -5\n",
    "\n",
    "ib = np.ones((nrow,ncol))\n",
    "#set first cell in first row to constant head\n",
    "ib[(nrow-nrow),(ncol-ncol)] = -1\n",
    "# set last cell in first row to contant head\n",
    "ib[(nrow-1),(ncol-1)] = -1\n",
    "\n",
    "#create array of starting heads (one indicates active I think)\n",
    "strt = np.ones((nlay, nrow, ncol), dtype=np.float32)\n",
    "#from ibound, only first and last cells have fixed head, assign these:\n",
    "strt[:, :, 0] = 0.\n",
    "strt[:, :, -1] = -4.1"
   ]
  },
  {
   "cell_type": "code",
   "execution_count": 46,
   "metadata": {
    "collapsed": true
   },
   "outputs": [],
   "source": [
    "modelname = 'testETunconf'\n",
    "m = flopy.modflow.Modflow(version = 'mf2005',exe_name = 'mf2005.exe',modelname = modelname)\n",
    "Lx = 100\n",
    "Ly = 100\n",
    "nlay = 1\n",
    "nrow = 1\n",
    "ncol = numcell\n",
    "nper = 1\n",
    "\n",
    "delc = Ly/nrow\n",
    "delr = Lx/ncol\n",
    "laycbd = 0 \n",
    "laytyp = 0 #zero for confined or convertible (will act like confined when fully saturated)\n",
    "botm = -5\n",
    "top = 0 #for confined, top equals lowest top from unconfined case at H1, for unconfined, top = 100\n",
    "nstp = 1\n",
    "tsmult = 1\n",
    "steady = True\n",
    "\n",
    "dis = flopy.modflow.ModflowDis(m,nlay=nlay,nrow=nrow,ncol=ncol,nper=nper,delr=delr,delc=delc,laycbd=laycbd,top=top\n",
    ",botm=botm,nstp=nstp,tsmult=tsmult,steady=steady)\n",
    "flow = []\n",
    "heads = []\n",
    "\n",
    "\n",
    "\n",
    "bas = flopy.modflow.ModflowBas(m,ibound = ib,strt = strt)\n",
    "lpf = flopy.modflow.ModflowLpf(m,laytyp=1,ipakcb=50)"
   ]
  },
  {
   "cell_type": "code",
   "execution_count": 47,
   "metadata": {
    "collapsed": false
   },
   "outputs": [
    {
     "name": "stdout",
     "output_type": "stream",
     "text": [
      "0\n",
      "0\n",
      "FloPy is using the following executable to run the model: C:\\GWV6\\mf2005.exe\n",
      "\n",
      "                                  MODFLOW-2005     \n",
      "    U.S. GEOLOGICAL SURVEY MODULAR FINITE-DIFFERENCE GROUND-WATER FLOW MODEL\n",
      "                             Version 1.11.00 8/8/2013                        \n",
      "\n",
      " Using NAME file: testETunconf.nam \n",
      " Run start date and time (yyyy/mm/dd hh:mm:ss): 2018/06/09 15:41:19\n",
      "\n",
      " Solving:  Stress period:     1    Time step:     1    Ground-Water Flow Eqn.\n",
      " Run end date and time (yyyy/mm/dd hh:mm:ss): 2018/06/09 15:41:19\n",
      " Elapsed run time:  0.000 Seconds\n",
      "\n",
      "  Normal termination of simulation\n",
      "0\n"
     ]
    },
    {
     "name": "stderr",
     "output_type": "stream",
     "text": [
      "C:\\Users\\Libby\\Anaconda3\\envs\\flopy\\lib\\site-packages\\flopy\\modflow\\mfdis.py:164: UserWarning: ModflowDis.sr is deprecated. use Modflow.sr\n",
      "  warnings.warn(\"ModflowDis.sr is deprecated. use Modflow.sr\")\n",
      "C:\\Users\\Libby\\Anaconda3\\envs\\flopy\\lib\\site-packages\\flopy\\utils\\binaryfile.py:811: VisibleDeprecationWarning: converting an array with ndim > 0 to an index will result in an error in the future\n",
      "  self.file.seek(ipos, 0)\n"
     ]
    }
   ],
   "source": [
    "noETuPert = modelrun_fixed(modelname)"
   ]
  },
  {
   "cell_type": "code",
   "execution_count": 48,
   "metadata": {
    "collapsed": true
   },
   "outputs": [],
   "source": [
    "noETuP = []\n",
    "for i in range(ncol):\n",
    "    new = heads[0][0][0][i]\n",
    "    noETuP.append(new)\n",
    "    \n",
    "noETuQP = []\n",
    "for i in range(ncol):\n",
    "    new = flow[0][0][0][i]\n",
    "    noETuQP.append(new)\n",
    "\n",
    "noETuP = np.asarray(noETuP)\n",
    "noETuQP = np.asarray(noETuQP)"
   ]
  },
  {
   "cell_type": "code",
   "execution_count": 49,
   "metadata": {
    "collapsed": true
   },
   "outputs": [],
   "source": [
    "heads = []\n",
    "flow = []"
   ]
  },
  {
   "cell_type": "code",
   "execution_count": 50,
   "metadata": {
    "collapsed": false
   },
   "outputs": [
    {
     "name": "stdout",
     "output_type": "stream",
     "text": [
      "WARNING: unit 20 of package ['WEL'] already in use\n",
      "****Warning -- two packages of the same type:  <class 'flopy.modflow.mfwel.ModflowWel'> <class 'flopy.modflow.mfwel.ModflowWel'>\n",
      "replacing existing Package...\n",
      "WARNING: unit 27 of package ['GMG'] already in use\n",
      "****Warning -- two packages of the same type:  <class 'flopy.modflow.mfgmg.ModflowGmg'> <class 'flopy.modflow.mfgmg.ModflowGmg'>\n",
      "replacing existing Package...\n",
      "WARNING: unit 14 of package ['OC', 'DATA(BINARY)', 'DATA(BINARY)', 'DATA(BINARY)'] already in use\n",
      "WARNING: unit 51 of package ['OC', 'DATA(BINARY)', 'DATA(BINARY)', 'DATA(BINARY)'] already in use\n",
      "WARNING: unit 52 of package ['OC', 'DATA(BINARY)', 'DATA(BINARY)', 'DATA(BINARY)'] already in use\n",
      "WARNING: unit 53 of package ['OC', 'DATA(BINARY)', 'DATA(BINARY)', 'DATA(BINARY)'] already in use\n",
      "****Warning -- two packages of the same type:  <class 'flopy.modflow.mfoc.ModflowOc'> <class 'flopy.modflow.mfoc.ModflowOc'>\n",
      "replacing existing Package...\n",
      "0\n",
      "0\n",
      "FloPy is using the following executable to run the model: C:\\GWV6\\mf2005.exe\n",
      "\n",
      "                                  MODFLOW-2005     \n",
      "    U.S. GEOLOGICAL SURVEY MODULAR FINITE-DIFFERENCE GROUND-WATER FLOW MODEL\n",
      "                             Version 1.11.00 8/8/2013                        \n",
      "\n",
      " Using NAME file: testETunconf.nam \n",
      " Run start date and time (yyyy/mm/dd hh:mm:ss): 2018/06/09 15:41:19\n",
      "\n",
      " Solving:  Stress period:     1    Time step:     1    Ground-Water Flow Eqn.\n",
      " Run end date and time (yyyy/mm/dd hh:mm:ss): 2018/06/09 15:41:19\n",
      " Elapsed run time:  0.000 Seconds\n",
      "\n",
      "  Normal termination of simulation\n",
      "0\n"
     ]
    },
    {
     "name": "stderr",
     "output_type": "stream",
     "text": [
      "C:\\Users\\Libby\\Anaconda3\\envs\\flopy\\lib\\site-packages\\flopy\\modflow\\mfdis.py:164: UserWarning: ModflowDis.sr is deprecated. use Modflow.sr\n",
      "  warnings.warn(\"ModflowDis.sr is deprecated. use Modflow.sr\")\n",
      "C:\\Users\\Libby\\Anaconda3\\envs\\flopy\\lib\\site-packages\\flopy\\utils\\binaryfile.py:811: VisibleDeprecationWarning: converting an array with ndim > 0 to an index will result in an error in the future\n",
      "  self.file.seek(ipos, 0)\n"
     ]
    }
   ],
   "source": [
    "ETuPert = modelrun_et(modelname)"
   ]
  },
  {
   "cell_type": "code",
   "execution_count": 51,
   "metadata": {
    "collapsed": true
   },
   "outputs": [],
   "source": [
    "ETuP = []\n",
    "for i in range(ncol):\n",
    "    new = heads[0][0][0][i]\n",
    "    ETuP.append(new)\n",
    "    \n",
    "ETuQP = []\n",
    "for i in range(ncol):\n",
    "    new = flow[0][0][0][i]\n",
    "    ETuQP.append(new)\n",
    "\n",
    "ETuP = np.asarray(ETuP)\n",
    "ETuQP = np.asarray(ETuQP)"
   ]
  },
  {
   "cell_type": "code",
   "execution_count": 52,
   "metadata": {
    "collapsed": true
   },
   "outputs": [],
   "source": [
    "noETuGradHP = []\n",
    "ETuGradHP = []\n",
    "noETcGradHP = []\n",
    "ETcGradHP = []\n",
    "\n",
    "for i in range(ncol-1):\n",
    "    dH1 = noETuP[i+1] - noETuP[i]\n",
    "    dH2 = ETuP[i+1] - ETuP[i]\n",
    "    dH3 = noETcP[i+1] - noETcP[i]\n",
    "    dH4 = ETcP[i+1] - ETcP[i]\n",
    "    noETuGradHP.append(dH1)\n",
    "    ETuGradHP.append(dH2)\n",
    "    noETcGradHP.append(dH3)\n",
    "    ETcGradHP.append(dH4)"
   ]
  },
  {
   "cell_type": "code",
   "execution_count": 53,
   "metadata": {
    "collapsed": true
   },
   "outputs": [],
   "source": [
    "noETuRP = []\n",
    "ETuRP = []\n",
    "noETcRP = []\n",
    "ETcRP = []\n",
    "\n",
    "for i in range(ncol-1):\n",
    "    R1 = noETuGradHP[i]/noETuQP[i]\n",
    "    R2 = ETuGradHP[i]/ETuQP[i]\n",
    "    R3 = noETcGradHP[i]/noETcQP[i]\n",
    "    R4 = ETcGradHP[i]/ETcQP[i]\n",
    "    noETuRP.append(R1)\n",
    "    ETuRP.append(R2)\n",
    "    noETcRP.append(R3)\n",
    "    ETcRP.append(R4)"
   ]
  },
  {
   "cell_type": "code",
   "execution_count": 65,
   "metadata": {
    "collapsed": true
   },
   "outputs": [],
   "source": [
    "phinoETu = []\n",
    "phiETc = []\n",
    "phiETu = []\n",
    "phinoETc = []\n",
    "\n",
    "for i in range(ncol-1):\n",
    "    phi1 = (noETuRP[i] - noETuR[i])/(noETuGradHP[i] - noETuGradH[i])\n",
    "    phi2 = (ETcRP[i] - ETcR[i])/(ETcGradHP[i] - ETcGradH[i])\n",
    "    phi3 = (ETuRP[i] - ETuR[i])/(ETuGradHP[i] - ETuGradH[i])\n",
    "    phi4 = (noETcRP[i] - noETcR[i])/(noETcGradHP[i] - noETcGradH[i])\n",
    "    phinoETu.append(phi1)\n",
    "    phiETc.append(phi2)\n",
    "    phiETu.append(phi3)\n",
    "    phinoETc.append(phi4)"
   ]
  },
  {
   "cell_type": "code",
   "execution_count": 66,
   "metadata": {
    "collapsed": false
   },
   "outputs": [
    {
     "data": {
      "image/png": "[encoded data removed]",
      "text/plain": [
       "<matplotlib.figure.Figure at 0x1114516e400>"
      ]
     },
     "metadata": {},
     "output_type": "display_data"
    },
    {
     "name": "stderr",
     "output_type": "stream",
     "text": [
      "C:\\Users\\Libby\\Anaconda3\\envs\\flopy\\lib\\site-packages\\matplotlib\\axes\\_axes.py:531: UserWarning: No labelled objects found. Use label='...' kwarg on individual plots.\n",
      "  warnings.warn(\"No labelled objects found. \"\n"
     ]
    }
   ],
   "source": [
    "plt.plot(phinoETu,'mo')\n",
    "plt.plot(phiETc,'ro')\n",
    "plt.plot(phiETu,'bo')\n",
    "plt.plot(phinoETc,'go')\n",
    "plt.title('phi')\n",
    "\n",
    "axes = plt.gca()\n",
    "# axes.set_xlim([-1,4])\n",
    "# axes.set_ylim([-5,30])\n",
    "plt.show()\n",
    "plt.legend()"
   ]
  },
  {
   "cell_type": "code",
   "execution_count": 67,
   "metadata": {
    "collapsed": false
   },
   "outputs": [
    {
     "data": {
      "image/png": "[encoded data removed]",
      "text/plain": [
       "<matplotlib.figure.Figure at 0x11145230128>"
      ]
     },
     "metadata": {},
     "output_type": "display_data"
    }
   ],
   "source": [
    "tempAA=np.asarray(phinoETu)\n",
    "tempBB=np.asarray(phiETc)\n",
    "tempCC=np.asarray(phiETu)\n",
    "tempDD=np.asarray(phinoETc)\n",
    "plt.plot(tempAA-tempCC,'mo')\n",
    "plt.plot(tempBB-tempDD,'ro')\n",
    "plt.title('phi difference')\n",
    "\n",
    "\n",
    "axes = plt.gca()\n",
    "# axes.set_xlim([-1,4])\n",
    "# axes.set_ylim([-5,30])\n",
    "plt.show()\n",
    "plt.savefig('phidiff.pdf')"
   ]
  },
  {
   "cell_type": "code",
   "execution_count": null,
   "metadata": {
    "collapsed": true
   },
   "outputs": [],
   "source": []
  }
 ],
 "metadata": {
  "anaconda-cloud": {},
  "kernelspec": {
   "display_name": "Python [default]",
   "language": "python",
   "name": "python3"
  },
  "language_info": {
   "codemirror_mode": {
    "name": "ipython",
    "version": 3
   },
   "file_extension": ".py",
   "mimetype": "text/x-python",
   "name": "python",
   "nbconvert_exporter": "python",
   "pygments_lexer": "ipython3",
   "version": "3.5.2"
  }
 },
 "nbformat": 4,
 "nbformat_minor": 1
}
